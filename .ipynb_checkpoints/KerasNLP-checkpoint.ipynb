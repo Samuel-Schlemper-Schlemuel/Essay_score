{
 "cells": [
  {
   "cell_type": "code",
   "execution_count": 6,
   "id": "1106cab7",
   "metadata": {},
   "outputs": [],
   "source": [
    "import os\n",
    "os.environ[\"KERAS_BACKEND\"] = \"jax\"  # \"jax\" or \"tensorflow\" or \"torch\" \n",
    "\n",
    "import tensorflow as tf\n",
    "import tensorflow.keras as keras\n",
    "import tensorflow.keras.backend as K\n",
    "import keras_nlp\n",
    "\n",
    "import numpy as np \n",
    "import pandas as pd\n",
    "\n",
    "import matplotlib.pyplot as plt\n",
    "import matplotlib as mpl\n",
    "\n",
    "cmap = mpl.cm.get_cmap('coolwarm')"
   ]
  },
  {
   "cell_type": "code",
   "execution_count": 5,
   "id": "1e97d4c7",
   "metadata": {},
   "outputs": [],
   "source": [
    "class CFG:\n",
    "    seed = 37  # Random seed\n",
    "    preset = \"deberta_v3_extra_small_en\" # Name of pretrained models\n",
    "    sequence_length = 512  # Input sequence length\n",
    "    epochs = 5 # Training epochs\n",
    "    batch_size = 32  # Batch size\n",
    "    scheduler = 'cosine'  # Learning rate scheduler"
   ]
  },
  {
   "cell_type": "code",
   "execution_count": 7,
   "id": "a208f2cc",
   "metadata": {},
   "outputs": [],
   "source": [
    "keras.utils.set_random_seed(CFG.seed)"
   ]
  },
  {
   "cell_type": "code",
   "execution_count": 8,
   "id": "c5378efd",
   "metadata": {},
   "outputs": [],
   "source": [
    "keras.mixed_precision.set_global_policy(\"mixed_float16\")"
   ]
  },
  {
   "cell_type": "code",
   "execution_count": 9,
   "id": "f9121b38",
   "metadata": {},
   "outputs": [],
   "source": [
    "BASE_PATH = \"/home/schlemuel/OneDrive/Documentos/Bancos de dados/Kaggle/automated-essay-scoring\""
   ]
  },
  {
   "cell_type": "code",
   "execution_count": 3,
   "id": "0a4b60fc",
   "metadata": {},
   "outputs": [],
   "source": [
    "df_train = pd.read_csv(BASE_PATH + '/train.csv')\n",
    "df_test = pd.read_csv(BASE_PATH + '/test.csv')"
   ]
  },
  {
   "cell_type": "markdown",
   "id": "1c210284",
   "metadata": {},
   "source": [
    "## Local Only"
   ]
  },
  {
   "cell_type": "code",
   "execution_count": 9,
   "id": "2f801ced",
   "metadata": {},
   "outputs": [],
   "source": [
    "df_train, df_test = train_test_split(df_train, test_size=0.2, random_state=CFG.seed)"
   ]
  },
  {
   "cell_type": "code",
   "execution_count": 10,
   "id": "dc44e5a9",
   "metadata": {
    "scrolled": true
   },
   "outputs": [
    {
     "name": "stdout",
     "output_type": "stream",
     "text": [
      "(13845, 3)\n",
      "(3462, 3)\n"
     ]
    }
   ],
   "source": [
    "print(df_train.shape)\n",
    "print(df_test.shape)"
   ]
  },
  {
   "cell_type": "markdown",
   "id": "db1d24a3",
   "metadata": {},
   "source": [
    "## Returning"
   ]
  },
  {
   "cell_type": "code",
   "execution_count": null,
   "id": "8be1dc36",
   "metadata": {},
   "outputs": [],
   "source": []
  }
 ],
 "metadata": {
  "kernelspec": {
   "display_name": "Python 3 (ipykernel)",
   "language": "python",
   "name": "python3"
  },
  "language_info": {
   "codemirror_mode": {
    "name": "ipython",
    "version": 3
   },
   "file_extension": ".py",
   "mimetype": "text/x-python",
   "name": "python",
   "nbconvert_exporter": "python",
   "pygments_lexer": "ipython3",
   "version": "3.10.12"
  }
 },
 "nbformat": 4,
 "nbformat_minor": 5
}
